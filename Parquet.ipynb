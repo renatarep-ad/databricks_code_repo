{
 "cells": [
  {
   "cell_type": "code",
   "execution_count": 0,
   "metadata": {
    "application/vnd.databricks.v1+cell": {
     "cellMetadata": {
      "byteLimit": 2048000,
      "rowLimit": 10000
     },
     "inputWidgets": {},
     "nuid": "816b8cae-d7bf-4044-87cf-65d0f5a5d06a",
     "showTitle": false,
     "title": ""
    }
   },
   "outputs": [
    {
     "output_type": "stream",
     "name": "stdout",
     "output_type": "stream",
     "text": [
      "+------------+----------+-------------+--------------------+------+-------+\n|PrimeiroNome|UltimoNome|Nacionalidade|           Profissao|Genero|Salario|\n+------------+----------+-------------+--------------------+------+-------+\n|        João|    Santos|   Brasileiro|           Estudante|     M|    500|\n|       Pedro|    Coelho|    Portugues|           Professor|     M|   2500|\n|      Krursa|  Zinovich|        Russa|              Medica|     F|   5000|\n|       Giani|  Alcomini|     Italiano|Analista de sistemas|     M|   3000|\n|       Carol|     Smith|    Americano|           Arquiteta|     F|   2000|\n|       Peter|     Smith|    Americano|          Empresario|     M|  10000|\n+------------+----------+-------------+--------------------+------+-------+\n\n"
     ]
    }
   ],
   "source": [
    "dados = [\n",
    "    (\"João\", \"Santos\", \"Brasileiro\", \"Estudante\", \"M\", 500),\n",
    "    (\"Pedro\", \"Coelho\", \"Portugues\", \"Professor\", \"M\", 2500),\n",
    "    (\"Krursa\", \"Zinovich\", \"Russa\", \"Medica\", \"F\", 5000),\n",
    "    (\"Giani\", \"Alcomini\", \"Italiano\", \"Analista de sistemas\", \"M\", 3000),\n",
    "    (\"Carol\", \"Smith\", \"Americano\", \"Arquiteta\", \"F\", 2000),\n",
    "    (\"Peter\", \"Smith\", \"Americano\", \"Empresario\", \"M\", 10000)]\n",
    "colunas = [\"PrimeiroNome\", \"UltimoNome\", \"Nacionalidade\", \"Profissao\", \"Genero\", \"Salario\"]\n",
    "dfparquet = spark.createDataFrame(dados, colunas)\n",
    "dfparquet.show()"
   ]
  },
  {
   "cell_type": "code",
   "execution_count": 0,
   "metadata": {
    "application/vnd.databricks.v1+cell": {
     "cellMetadata": {
      "byteLimit": 2048000,
      "rowLimit": 10000
     },
     "inputWidgets": {},
     "nuid": "30def1cf-4b43-4511-9785-951d04df584e",
     "showTitle": false,
     "title": ""
    }
   },
   "outputs": [],
   "source": [
    "dfparquet.write.mode('overwrite').parquet(\"/dbfs/FileStore/tables/carga/usuarios\")"
   ]
  },
  {
   "cell_type": "code",
   "execution_count": 0,
   "metadata": {
    "application/vnd.databricks.v1+cell": {
     "cellMetadata": {
      "byteLimit": 2048000,
      "rowLimit": 10000
     },
     "inputWidgets": {},
     "nuid": "8d23bfa8-4d2b-4a0d-a198-4c12cc2137cc",
     "showTitle": false,
     "title": ""
    }
   },
   "outputs": [
    {
     "output_type": "stream",
     "name": "stdout",
     "output_type": "stream",
     "text": [
      "+------------+----------+-------------+--------------------+------+-------+\n|PrimeiroNome|UltimoNome|Nacionalidade|           Profissao|Genero|Salario|\n+------------+----------+-------------+--------------------+------+-------+\n|       Giani|  Alcomini|     Italiano|Analista de sistemas|     M|   3000|\n|        João|    Santos|   Brasileiro|           Estudante|     M|    500|\n|       Peter|     Smith|    Americano|          Empresario|     M|  10000|\n|       Pedro|    Coelho|    Portugues|           Professor|     M|   2500|\n|       Carol|     Smith|    Americano|           Arquiteta|     F|   2000|\n|      Krursa|  Zinovich|        Russa|              Medica|     F|   5000|\n+------------+----------+-------------+--------------------+------+-------+\n\n"
     ]
    }
   ],
   "source": [
    "dfleitura = spark.read.parquet('/dbfs/FileStore/tables/carga/usuarios')\n",
    "dfleitura.show()"
   ]
  },
  {
   "cell_type": "code",
   "execution_count": 0,
   "metadata": {
    "application/vnd.databricks.v1+cell": {
     "cellMetadata": {
      "byteLimit": 2048000,
      "rowLimit": 10000
     },
     "inputWidgets": {},
     "nuid": "a615e863-c9d6-447d-9d86-0dbf1aae46db",
     "showTitle": false,
     "title": ""
    }
   },
   "outputs": [
    {
     "output_type": "stream",
     "name": "stdout",
     "output_type": "stream",
     "text": [
      "+------------+----------+-------------+--------------------+------+-------+\n|PrimeiroNome|UltimoNome|Nacionalidade|           Profissao|Genero|Salario|\n+------------+----------+-------------+--------------------+------+-------+\n|       Giani|  Alcomini|     Italiano|Analista de sistemas|     M|   3000|\n|       Peter|     Smith|    Americano|          Empresario|     M|  10000|\n|       Pedro|    Coelho|    Portugues|           Professor|     M|   2500|\n|      Krursa|  Zinovich|        Russa|              Medica|     F|   5000|\n+------------+----------+-------------+--------------------+------+-------+\n\n"
     ]
    }
   ],
   "source": [
    "dfleitura.createOrReplaceTempView('Tabela_Parquet')\n",
    "sql = spark.sql(\"select * from Tabela_Parquet where Salario>2000\")\n",
    "sql.show()"
   ]
  },
  {
   "cell_type": "code",
   "execution_count": 0,
   "metadata": {
    "application/vnd.databricks.v1+cell": {
     "cellMetadata": {
      "byteLimit": 2048000,
      "rowLimit": 10000
     },
     "inputWidgets": {},
     "nuid": "7c38f588-5d33-4379-be6c-678517305487",
     "showTitle": false,
     "title": ""
    }
   },
   "outputs": [],
   "source": [
    "#Particionamento Parquet\n",
    "dfparquet.write.partitionBy(\"Nacionalidade\", \"Profissao\").mode(\"overwrite\").parquet(\"/dbfs/FileStore/tables/carga/usuarios\")"
   ]
  },
  {
   "cell_type": "code",
   "execution_count": 0,
   "metadata": {
    "application/vnd.databricks.v1+cell": {
     "cellMetadata": {
      "byteLimit": 2048000,
      "rowLimit": 10000
     },
     "inputWidgets": {},
     "nuid": "193d1051-b808-4e67-9eab-4b0d5621f208",
     "showTitle": false,
     "title": ""
    }
   },
   "outputs": [
    {
     "output_type": "stream",
     "name": "stdout",
     "output_type": "stream",
     "text": [
      "+------------+----------+------+-------+----------+\n|PrimeiroNome|UltimoNome|Genero|Salario|Profissao |\n+------------+----------+------+-------+----------+\n|Carol       |Smith     |F     |2000   |Arquiteta |\n|Peter       |Smith     |M     |10000  |Empresario|\n+------------+----------+------+-------+----------+\n\n"
     ]
    }
   ],
   "source": [
    "dfnacionalidade = spark.read.parquet(\"/dbfs/FileStore/tables/carga/usuarios/Nacionalidade=Americano\")\n",
    "dfnacionalidade.show(truncate=False)\n",
    "#/dbfs/dbfs/FileStore/tables/carga/usuarios/Nacionalidade=Brasileiro"
   ]
  },
  {
   "cell_type": "code",
   "execution_count": 0,
   "metadata": {
    "application/vnd.databricks.v1+cell": {
     "cellMetadata": {
      "byteLimit": 2048000,
      "rowLimit": 10000
     },
     "inputWidgets": {},
     "nuid": "d964c440-3847-4048-9167-4595754e3f81",
     "showTitle": false,
     "title": ""
    }
   },
   "outputs": [
    {
     "output_type": "stream",
     "name": "stdout",
     "output_type": "stream",
     "text": [
      "+------------+----------+------+-------+----------+\n|PrimeiroNome|UltimoNome|Genero|Salario| Profissao|\n+------------+----------+------+-------+----------+\n|       Carol|     Smith|     F|   2000| Arquiteta|\n|       Peter|     Smith|     M|  10000|Empresario|\n+------------+----------+------+-------+----------+\n\n"
     ]
    }
   ],
   "source": [
    "spark.sql(\"CREATE OR REPLACE TEMPORARY VIEW Usuario USING parquet OPTIONS (path \\\"/dbfs/FileStore/tables/carga/usuarios/Nacionalidade=Americano\\\")\")\n",
    "spark.sql(\"select * from Usuario where UltimoNome = 'Smith'\").show()"
   ]
  },
  {
   "cell_type": "markdown",
   "metadata": {
    "application/vnd.databricks.v1+cell": {
     "cellMetadata": {},
     "inputWidgets": {},
     "nuid": "26f02e5b-da49-4d62-8507-34c2039a22cc",
     "showTitle": false,
     "title": ""
    }
   },
   "source": [
    "Leitura de arquivo csv"
   ]
  },
  {
   "cell_type": "code",
   "execution_count": 0,
   "metadata": {
    "application/vnd.databricks.v1+cell": {
     "cellMetadata": {
      "byteLimit": 2048000,
      "rowLimit": 10000
     },
     "inputWidgets": {},
     "nuid": "8f9335e7-c541-44b1-9fe9-7103af42b547",
     "showTitle": false,
     "title": ""
    }
   },
   "outputs": [
    {
     "output_type": "stream",
     "name": "stdout",
     "output_type": "stream",
     "text": [
      "+---------+------+---+--------------------+--------------+----------------+-----------------------+------------+-------------+--------------+----------+-----------+--------------+\n|Person ID|Gender|Age|          Occupation|Sleep Duration|Quality of Sleep|Physical Activity Level|Stress Level| BMI Category|Blood Pressure|Heart Rate|Daily Steps|Sleep Disorder|\n+---------+------+---+--------------------+--------------+----------------+-----------------------+------------+-------------+--------------+----------+-----------+--------------+\n|        1|  Male| 27|   Software Engineer|           6.1|               6|                     42|           6|   Overweight|        126/83|        77|       4200|          None|\n|        2|  Male| 28|              Doctor|           6.2|               6|                     60|           8|       Normal|        125/80|        75|      10000|          None|\n|        3|  Male| 28|              Doctor|           6.2|               6|                     60|           8|       Normal|        125/80|        75|      10000|          None|\n|        4|  Male| 28|Sales Representative|           5.9|               4|                     30|           8|        Obese|        140/90|        85|       3000|   Sleep Apnea|\n|        5|  Male| 28|Sales Representative|           5.9|               4|                     30|           8|        Obese|        140/90|        85|       3000|   Sleep Apnea|\n|        6|  Male| 28|   Software Engineer|           5.9|               4|                     30|           8|        Obese|        140/90|        85|       3000|      Insomnia|\n|        7|  Male| 29|             Teacher|           6.3|               6|                     40|           7|        Obese|        140/90|        82|       3500|      Insomnia|\n|        8|  Male| 29|              Doctor|           7.8|               7|                     75|           6|       Normal|        120/80|        70|       8000|          None|\n|        9|  Male| 29|              Doctor|           7.8|               7|                     75|           6|       Normal|        120/80|        70|       8000|          None|\n|       10|  Male| 29|              Doctor|           7.8|               7|                     75|           6|       Normal|        120/80|        70|       8000|          None|\n|       11|  Male| 29|              Doctor|           6.1|               6|                     30|           8|       Normal|        120/80|        70|       8000|          None|\n|       12|  Male| 29|              Doctor|           7.8|               7|                     75|           6|       Normal|        120/80|        70|       8000|          None|\n|       13|  Male| 29|              Doctor|           6.1|               6|                     30|           8|       Normal|        120/80|        70|       8000|          None|\n|       14|  Male| 29|              Doctor|             6|               6|                     30|           8|       Normal|        120/80|        70|       8000|          None|\n|       15|  Male| 29|              Doctor|             6|               6|                     30|           8|       Normal|        120/80|        70|       8000|          None|\n|       16|  Male| 29|              Doctor|             6|               6|                     30|           8|       Normal|        120/80|        70|       8000|          None|\n|       17|Female| 29|               Nurse|           6.5|               5|                     40|           7|Normal Weight|        132/87|        80|       4000|   Sleep Apnea|\n|       18|  Male| 29|              Doctor|             6|               6|                     30|           8|       Normal|        120/80|        70|       8000|   Sleep Apnea|\n|       19|Female| 29|               Nurse|           6.5|               5|                     40|           7|Normal Weight|        132/87|        80|       4000|      Insomnia|\n|       20|  Male| 30|              Doctor|           7.6|               7|                     75|           6|       Normal|        120/80|        70|       8000|          None|\n+---------+------+---+--------------------+--------------+----------------+-----------------------+------------+-------------+--------------+----------+-----------+--------------+\nonly showing top 20 rows\n\n"
     ]
    }
   ],
   "source": [
    "df = spark.read.format(\"csv\").option(\"header\",\"true\").load(\"/FileStore/tables/sleep_health.csv\")\n",
    "df.show()"
   ]
  },
  {
   "cell_type": "code",
   "execution_count": 0,
   "metadata": {
    "application/vnd.databricks.v1+cell": {
     "cellMetadata": {
      "byteLimit": 2048000,
      "rowLimit": 10000
     },
     "inputWidgets": {},
     "nuid": "cbf77134-debd-4a7d-966e-e763b20ba6ba",
     "showTitle": false,
     "title": ""
    }
   },
   "outputs": [
    {
     "output_type": "display_data",
     "data": {
      "text/html": [
       "<style scoped>\n",
       "  .ansiout {\n",
       "    display: block;\n",
       "    unicode-bidi: embed;\n",
       "    white-space: pre-wrap;\n",
       "    word-wrap: break-word;\n",
       "    word-break: break-all;\n",
       "    font-family: \"Menlo\", \"Monaco\", \"Consolas\", \"Ubuntu Mono\", \"Source Code Pro\", monospace;\n",
       "    font-size: 13px;\n",
       "    color: #555;\n",
       "    margin-left: 4px;\n",
       "    line-height: 19px;\n",
       "  }\n",
       "</style>\n",
       "<div class=\"ansiout\">+---------+------+---+--------------------+--------------+----------------+-----------------------+------------+-------------+--------------+----------+-----------+--------------+\n",
       "Person ID|Gender|Age|          Occupation|Sleep Duration|Quality of Sleep|Physical Activity Level|Stress Level| BMI Category|Blood Pressure|Heart Rate|Daily Steps|Sleep Disorder|\n",
       "+---------+------+---+--------------------+--------------+----------------+-----------------------+------------+-------------+--------------+----------+-----------+--------------+\n",
       "        1|  Male| 27|   Software Engineer|           6.1|               6|                     42|           6|   Overweight|        126/83|        77|       4200|          None|\n",
       "        2|  Male| 28|              Doctor|           6.2|               6|                     60|           8|       Normal|        125/80|        75|      10000|          None|\n",
       "        3|  Male| 28|              Doctor|           6.2|               6|                     60|           8|       Normal|        125/80|        75|      10000|          None|\n",
       "        4|  Male| 28|Sales Representative|           5.9|               4|                     30|           8|        Obese|        140/90|        85|       3000|   Sleep Apnea|\n",
       "        5|  Male| 28|Sales Representative|           5.9|               4|                     30|           8|        Obese|        140/90|        85|       3000|   Sleep Apnea|\n",
       "        6|  Male| 28|   Software Engineer|           5.9|               4|                     30|           8|        Obese|        140/90|        85|       3000|      Insomnia|\n",
       "        7|  Male| 29|             Teacher|           6.3|               6|                     40|           7|        Obese|        140/90|        82|       3500|      Insomnia|\n",
       "        8|  Male| 29|              Doctor|           7.8|               7|                     75|           6|       Normal|        120/80|        70|       8000|          None|\n",
       "        9|  Male| 29|              Doctor|           7.8|               7|                     75|           6|       Normal|        120/80|        70|       8000|          None|\n",
       "       10|  Male| 29|              Doctor|           7.8|               7|                     75|           6|       Normal|        120/80|        70|       8000|          None|\n",
       "       11|  Male| 29|              Doctor|           6.1|               6|                     30|           8|       Normal|        120/80|        70|       8000|          None|\n",
       "       12|  Male| 29|              Doctor|           7.8|               7|                     75|           6|       Normal|        120/80|        70|       8000|          None|\n",
       "       13|  Male| 29|              Doctor|           6.1|               6|                     30|           8|       Normal|        120/80|        70|       8000|          None|\n",
       "       14|  Male| 29|              Doctor|             6|               6|                     30|           8|       Normal|        120/80|        70|       8000|          None|\n",
       "       15|  Male| 29|              Doctor|             6|               6|                     30|           8|       Normal|        120/80|        70|       8000|          None|\n",
       "       16|  Male| 29|              Doctor|             6|               6|                     30|           8|       Normal|        120/80|        70|       8000|          None|\n",
       "       17|Female| 29|               Nurse|           6.5|               5|                     40|           7|Normal Weight|        132/87|        80|       4000|   Sleep Apnea|\n",
       "       18|  Male| 29|              Doctor|             6|               6|                     30|           8|       Normal|        120/80|        70|       8000|   Sleep Apnea|\n",
       "       19|Female| 29|               Nurse|           6.5|               5|                     40|           7|Normal Weight|        132/87|        80|       4000|      Insomnia|\n",
       "       20|  Male| 30|              Doctor|           7.6|               7|                     75|           6|       Normal|        120/80|        70|       8000|          None|\n",
       "+---------+------+---+--------------------+--------------+----------------+-----------------------+------------+-------------+--------------+----------+-----------+--------------+\n",
       "only showing top 20 rows\n",
       "\n",
       "dfs: org.apache.spark.sql.DataFrame = [Person ID: string, Gender: string ... 11 more fields]\n",
       "</div>"
      ]
     },
     "metadata": {
      "application/vnd.databricks.v1+output": {
       "addedWidgets": {},
       "arguments": {},
       "data": "<div class=\"ansiout\">+---------+------+---+--------------------+--------------+----------------+-----------------------+------------+-------------+--------------+----------+-----------+--------------+\n|Person ID|Gender|Age|          Occupation|Sleep Duration|Quality of Sleep|Physical Activity Level|Stress Level| BMI Category|Blood Pressure|Heart Rate|Daily Steps|Sleep Disorder|\n+---------+------+---+--------------------+--------------+----------------+-----------------------+------------+-------------+--------------+----------+-----------+--------------+\n|        1|  Male| 27|   Software Engineer|           6.1|               6|                     42|           6|   Overweight|        126/83|        77|       4200|          None|\n|        2|  Male| 28|              Doctor|           6.2|               6|                     60|           8|       Normal|        125/80|        75|      10000|          None|\n|        3|  Male| 28|              Doctor|           6.2|               6|                     60|           8|       Normal|        125/80|        75|      10000|          None|\n|        4|  Male| 28|Sales Representative|           5.9|               4|                     30|           8|        Obese|        140/90|        85|       3000|   Sleep Apnea|\n|        5|  Male| 28|Sales Representative|           5.9|               4|                     30|           8|        Obese|        140/90|        85|       3000|   Sleep Apnea|\n|        6|  Male| 28|   Software Engineer|           5.9|               4|                     30|           8|        Obese|        140/90|        85|       3000|      Insomnia|\n|        7|  Male| 29|             Teacher|           6.3|               6|                     40|           7|        Obese|        140/90|        82|       3500|      Insomnia|\n|        8|  Male| 29|              Doctor|           7.8|               7|                     75|           6|       Normal|        120/80|        70|       8000|          None|\n|        9|  Male| 29|              Doctor|           7.8|               7|                     75|           6|       Normal|        120/80|        70|       8000|          None|\n|       10|  Male| 29|              Doctor|           7.8|               7|                     75|           6|       Normal|        120/80|        70|       8000|          None|\n|       11|  Male| 29|              Doctor|           6.1|               6|                     30|           8|       Normal|        120/80|        70|       8000|          None|\n|       12|  Male| 29|              Doctor|           7.8|               7|                     75|           6|       Normal|        120/80|        70|       8000|          None|\n|       13|  Male| 29|              Doctor|           6.1|               6|                     30|           8|       Normal|        120/80|        70|       8000|          None|\n|       14|  Male| 29|              Doctor|             6|               6|                     30|           8|       Normal|        120/80|        70|       8000|          None|\n|       15|  Male| 29|              Doctor|             6|               6|                     30|           8|       Normal|        120/80|        70|       8000|          None|\n|       16|  Male| 29|              Doctor|             6|               6|                     30|           8|       Normal|        120/80|        70|       8000|          None|\n|       17|Female| 29|               Nurse|           6.5|               5|                     40|           7|Normal Weight|        132/87|        80|       4000|   Sleep Apnea|\n|       18|  Male| 29|              Doctor|             6|               6|                     30|           8|       Normal|        120/80|        70|       8000|   Sleep Apnea|\n|       19|Female| 29|               Nurse|           6.5|               5|                     40|           7|Normal Weight|        132/87|        80|       4000|      Insomnia|\n|       20|  Male| 30|              Doctor|           7.6|               7|                     75|           6|       Normal|        120/80|        70|       8000|          None|\n+---------+------+---+--------------------+--------------+----------------+-----------------------+------------+-------------+--------------+----------+-----------+--------------+\nonly showing top 20 rows\n\ndfs: org.apache.spark.sql.DataFrame = [Person ID: string, Gender: string ... 11 more fields]\n</div>",
       "datasetInfos": [
        {
         "name": "dfs",
         "schema": {
          "fields": [
           {
            "metadata": {},
            "name": "Person ID",
            "nullable": true,
            "type": "string"
           },
           {
            "metadata": {},
            "name": "Gender",
            "nullable": true,
            "type": "string"
           },
           {
            "metadata": {},
            "name": "Age",
            "nullable": true,
            "type": "string"
           },
           {
            "metadata": {},
            "name": "Occupation",
            "nullable": true,
            "type": "string"
           },
           {
            "metadata": {},
            "name": "Sleep Duration",
            "nullable": true,
            "type": "string"
           },
           {
            "metadata": {},
            "name": "Quality of Sleep",
            "nullable": true,
            "type": "string"
           },
           {
            "metadata": {},
            "name": "Physical Activity Level",
            "nullable": true,
            "type": "string"
           },
           {
            "metadata": {},
            "name": "Stress Level",
            "nullable": true,
            "type": "string"
           },
           {
            "metadata": {},
            "name": "BMI Category",
            "nullable": true,
            "type": "string"
           },
           {
            "metadata": {},
            "name": "Blood Pressure",
            "nullable": true,
            "type": "string"
           },
           {
            "metadata": {},
            "name": "Heart Rate",
            "nullable": true,
            "type": "string"
           },
           {
            "metadata": {},
            "name": "Daily Steps",
            "nullable": true,
            "type": "string"
           },
           {
            "metadata": {},
            "name": "Sleep Disorder",
            "nullable": true,
            "type": "string"
           }
          ],
          "type": "struct"
         },
         "tableIdentifier": null,
         "typeStr": "org.apache.spark.sql.DataFrame"
        }
       ],
       "metadata": {
        "isDbfsCommandResult": false
       },
       "removedWidgets": [],
       "type": "html"
      }
     },
     "output_type": "display_data"
    }
   ],
   "source": [
    "%scala\n",
    "val dfs = sqlContext.read.format(\"com.databricks.spark.csv\").option(\"header\", \"true\").load(\"/FileStore/tables/sleep_health.csv\")\n",
    "dfs.show()"
   ]
  },
  {
   "cell_type": "code",
   "execution_count": 0,
   "metadata": {
    "application/vnd.databricks.v1+cell": {
     "cellMetadata": {
      "byteLimit": 2048000,
      "rowLimit": 10000
     },
     "inputWidgets": {},
     "nuid": "9a5cf758-82c8-4205-8ebb-f5b71e280abd",
     "showTitle": false,
     "title": ""
    }
   },
   "outputs": [],
   "source": [
    "df.write.parquet(\"/FileStore/tables/parquet_csv_sleep\")"
   ]
  },
  {
   "cell_type": "code",
   "execution_count": 0,
   "metadata": {
    "application/vnd.databricks.v1+cell": {
     "cellMetadata": {
      "byteLimit": 2048000,
      "rowLimit": 10000
     },
     "inputWidgets": {},
     "nuid": "2798e9c2-c288-4d36-9306-3c9f5271ffda",
     "showTitle": false,
     "title": ""
    }
   },
   "outputs": [
    {
     "output_type": "stream",
     "name": "stdout",
     "output_type": "stream",
     "text": [
      "+---------+------+---+--------------------+--------------+----------------+-----------------------+------------+-------------+--------------+----------+-----------+--------------+\n|Person ID|Gender|Age|          Occupation|Sleep Duration|Quality of Sleep|Physical Activity Level|Stress Level| BMI Category|Blood Pressure|Heart Rate|Daily Steps|Sleep Disorder|\n+---------+------+---+--------------------+--------------+----------------+-----------------------+------------+-------------+--------------+----------+-----------+--------------+\n|        1|  Male| 27|   Software Engineer|           6.1|               6|                     42|           6|   Overweight|        126/83|        77|       4200|          None|\n|        2|  Male| 28|              Doctor|           6.2|               6|                     60|           8|       Normal|        125/80|        75|      10000|          None|\n|        3|  Male| 28|              Doctor|           6.2|               6|                     60|           8|       Normal|        125/80|        75|      10000|          None|\n|        4|  Male| 28|Sales Representative|           5.9|               4|                     30|           8|        Obese|        140/90|        85|       3000|   Sleep Apnea|\n|        5|  Male| 28|Sales Representative|           5.9|               4|                     30|           8|        Obese|        140/90|        85|       3000|   Sleep Apnea|\n|        6|  Male| 28|   Software Engineer|           5.9|               4|                     30|           8|        Obese|        140/90|        85|       3000|      Insomnia|\n|        7|  Male| 29|             Teacher|           6.3|               6|                     40|           7|        Obese|        140/90|        82|       3500|      Insomnia|\n|        8|  Male| 29|              Doctor|           7.8|               7|                     75|           6|       Normal|        120/80|        70|       8000|          None|\n|        9|  Male| 29|              Doctor|           7.8|               7|                     75|           6|       Normal|        120/80|        70|       8000|          None|\n|       10|  Male| 29|              Doctor|           7.8|               7|                     75|           6|       Normal|        120/80|        70|       8000|          None|\n|       11|  Male| 29|              Doctor|           6.1|               6|                     30|           8|       Normal|        120/80|        70|       8000|          None|\n|       12|  Male| 29|              Doctor|           7.8|               7|                     75|           6|       Normal|        120/80|        70|       8000|          None|\n|       13|  Male| 29|              Doctor|           6.1|               6|                     30|           8|       Normal|        120/80|        70|       8000|          None|\n|       14|  Male| 29|              Doctor|             6|               6|                     30|           8|       Normal|        120/80|        70|       8000|          None|\n|       15|  Male| 29|              Doctor|             6|               6|                     30|           8|       Normal|        120/80|        70|       8000|          None|\n|       16|  Male| 29|              Doctor|             6|               6|                     30|           8|       Normal|        120/80|        70|       8000|          None|\n|       17|Female| 29|               Nurse|           6.5|               5|                     40|           7|Normal Weight|        132/87|        80|       4000|   Sleep Apnea|\n|       18|  Male| 29|              Doctor|             6|               6|                     30|           8|       Normal|        120/80|        70|       8000|   Sleep Apnea|\n|       19|Female| 29|               Nurse|           6.5|               5|                     40|           7|Normal Weight|        132/87|        80|       4000|      Insomnia|\n|       20|  Male| 30|              Doctor|           7.6|               7|                     75|           6|       Normal|        120/80|        70|       8000|          None|\n+---------+------+---+--------------------+--------------+----------------+-----------------------+------------+-------------+--------------+----------+-----------+--------------+\nonly showing top 20 rows\n\n"
     ]
    }
   ],
   "source": [
    "dfleitura=spark.read.parquet(\"/FileStore/tables/parquet_csv_sleep\")\n",
    "dfleitura.show()"
   ]
  }
 ],
 "metadata": {
  "application/vnd.databricks.v1+notebook": {
   "dashboards": [],
   "environmentMetadata": null,
   "language": "python",
   "notebookMetadata": {
    "pythonIndentUnit": 4
   },
   "notebookName": "Parquet",
   "widgets": {}
  }
 },
 "nbformat": 4,
 "nbformat_minor": 0
}
